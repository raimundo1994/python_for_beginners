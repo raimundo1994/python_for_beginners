{
 "cells": [
  {
   "attachments": {},
   "cell_type": "markdown",
   "id": "e06e5918",
   "metadata": {},
   "source": [
    "## **Conceitos Básicos**"
   ]
  },
  {
   "attachments": {},
   "cell_type": "markdown",
   "id": "55eb42ed",
   "metadata": {},
   "source": [
    "- ### Tipos de dados\n",
    "Python suporta vários tipos de dados embutidos, que podem ser usados para armazenar diferentes tipos de informações. É importante lembrar que Python é uma linguagem de tipagem dinâmica, o que significa que as variáveis não precisam ser declaradas com um tipo específico. O tipo de dado é inferido automaticamente com base no valor atribuído à variável."
   ]
  },
  {
   "attachments": {},
   "cell_type": "markdown",
   "id": "4282898e",
   "metadata": {},
   "source": [
    "1. **Inteiros (int)**: Representam números inteiros, positivos ou negativos, sem parte fracionária. "
   ]
  },
  {
   "cell_type": "code",
   "execution_count": 1,
   "id": "d7b6f657",
   "metadata": {},
   "outputs": [
    {
     "data": {
      "text/plain": [
       "(4, 6, 8697, 23344)"
      ]
     },
     "execution_count": 1,
     "metadata": {},
     "output_type": "execute_result"
    }
   ],
   "source": [
    "4 , 6 , 8697, 23344"
   ]
  },
  {
   "attachments": {},
   "cell_type": "markdown",
   "id": "01d63e22",
   "metadata": {},
   "source": [
    "2. **Números de ponto flutuante (float)**: Representam números reais com parte fracionária."
   ]
  },
  {
   "cell_type": "code",
   "execution_count": 2,
   "id": "97f4845e",
   "metadata": {},
   "outputs": [
    {
     "data": {
      "text/plain": [
       "(45566.556, 3.6, 788.8888)"
      ]
     },
     "execution_count": 2,
     "metadata": {},
     "output_type": "execute_result"
    }
   ],
   "source": [
    "45566.556, 3.6, 788.8888"
   ]
  },
  {
   "cell_type": "markdown",
   "id": "87c9aa69",
   "metadata": {},
   "source": [
    "3. **Booleanos (bool)**: Representam valores lógicos verdadeiro ou falso. Os valores possíveis são `True` e `False`."
   ]
  },
  {
   "cell_type": "code",
   "execution_count": 3,
   "id": "f57e32d6",
   "metadata": {},
   "outputs": [
    {
     "name": "stdout",
     "output_type": "stream",
     "text": [
      "False\n",
      "True\n",
      "False\n",
      "True\n"
     ]
    }
   ],
   "source": [
    "a = 20 \n",
    "b = 40\n",
    "print(a>b) # a é maior que b ?\n",
    "print(a<b) # a é menor que b ?\n",
    "print(a==b) # a é igual b ?\n",
    "print(a!=b) # a é diferente de b?"
   ]
  },
  {
   "cell_type": "code",
   "execution_count": 4,
   "id": "8d3a27a1",
   "metadata": {},
   "outputs": [],
   "source": [
    "# print(20=40) # erro de sintaxe , troque \"=\" por \"==\""
   ]
  },
  {
   "cell_type": "markdown",
   "id": "f06899eb",
   "metadata": {},
   "source": [
    "4. **Strings (str)**: Representam sequências de caracteres. Os caracteres podem ser letras, números, símbolos, etc. "
   ]
  },
  {
   "cell_type": "code",
   "execution_count": 5,
   "id": "a770e866",
   "metadata": {},
   "outputs": [
    {
     "data": {
      "text/plain": [
       "'Olá padawan !!! $@%&'"
      ]
     },
     "execution_count": 5,
     "metadata": {},
     "output_type": "execute_result"
    }
   ],
   "source": [
    "'Olá padawan !!! $@%&'"
   ]
  },
  {
   "attachments": {},
   "cell_type": "markdown",
   "id": "0d5361e9",
   "metadata": {},
   "source": [
    "4. **Listas (list)**: São coleções ordenadas e mutáveis de elementos. Os elementos podem ser de diferentes tipos.\n",
    "\n",
    "5. **Tuplas (tuple)**: São coleções ordenadas e imutáveis de elementos. Os elementos podem ser de diferentes tipos."
   ]
  },
  {
   "cell_type": "code",
   "execution_count": 6,
   "id": "e7dadb7c",
   "metadata": {},
   "outputs": [
    {
     "name": "stdout",
     "output_type": "stream",
     "text": [
      "[1, 2, 3, 4] ['a', 'b', 'c'] --> listas são escritas entre cochetes\n",
      "(1, 2, 3) ('a', 'b', 'c') --> tuplas são escritas entre parênteses\n"
     ]
    }
   ],
   "source": [
    "print([1, 2, 3, 4], ['a', 'b', 'c'], '--> listas são escritas entre cochetes')\n",
    "print((1, 2, 3), ('a', 'b', 'c'), '--> tuplas são escritas entre parênteses')"
   ]
  },
  {
   "attachments": {},
   "cell_type": "markdown",
   "id": "b51dc015",
   "metadata": {},
   "source": [
    "6. **Dicionários (dict)**: São coleções de pares chave-valor, onde cada valor é associado a uma chave única. Os elementos não possuem uma ordem específica.."
   ]
  },
  {
   "cell_type": "code",
   "execution_count": 7,
   "id": "4301f0a2",
   "metadata": {},
   "outputs": [
    {
     "name": "stdout",
     "output_type": "stream",
     "text": [
      "{'nome': 'João', 'idade': 25, 'cidade': 'São Paulo'} --> dicionários são escritas entre chaves\n"
     ]
    }
   ],
   "source": [
    "print({'nome': 'João', 'idade': 25, 'cidade': 'São Paulo'}, '--> dicionários são escritas entre chaves')"
   ]
  },
  {
   "attachments": {},
   "cell_type": "markdown",
   "id": "dc0e05ca",
   "metadata": {},
   "source": [
    "- ### Visualizando o tipo da variável \n",
    "\n",
    "A função `type()` em Python é usada para obter o tipo de dado de um objeto."
   ]
  },
  {
   "cell_type": "code",
   "execution_count": 8,
   "id": "4a59e969",
   "metadata": {},
   "outputs": [
    {
     "name": "stdout",
     "output_type": "stream",
     "text": [
      "<class 'str'>\n"
     ]
    }
   ],
   "source": [
    "nome =  'Arya Stark'\n",
    "print(type(nome))"
   ]
  },
  {
   "cell_type": "code",
   "execution_count": 9,
   "id": "20c40fab",
   "metadata": {},
   "outputs": [
    {
     "name": "stdout",
     "output_type": "stream",
     "text": [
      "<class 'int'>\n"
     ]
    }
   ],
   "source": [
    "idade = 16\n",
    "print(type(idade))"
   ]
  },
  {
   "cell_type": "code",
   "execution_count": 10,
   "id": "2108bd2c",
   "metadata": {},
   "outputs": [
    {
     "name": "stdout",
     "output_type": "stream",
     "text": [
      "<class 'float'>\n"
     ]
    }
   ],
   "source": [
    "peso = 52.5\n",
    "print(type(peso))"
   ]
  },
  {
   "cell_type": "code",
   "execution_count": 11,
   "id": "2ae9b466",
   "metadata": {},
   "outputs": [
    {
     "name": "stdout",
     "output_type": "stream",
     "text": [
      "<class 'dict'>\n"
     ]
    }
   ],
   "source": [
    "Personagem = {'nome': 'Arya Stark', 'idade': 16, 'peso': 52.5}\n",
    "print(type(Personagem))"
   ]
  },
  {
   "attachments": {},
   "cell_type": "markdown",
   "id": "0b120d10",
   "metadata": {},
   "source": [
    "- ### Operadores aritméticos básicos"
   ]
  },
  {
   "attachments": {},
   "cell_type": "markdown",
   "id": "a34dee3f",
   "metadata": {},
   "source": [
    "1. **Adição (+)**: Realiza a adição entre dois valores.\n"
   ]
  },
  {
   "cell_type": "code",
   "execution_count": 12,
   "id": "2282e5c8",
   "metadata": {},
   "outputs": [
    {
     "name": "stdout",
     "output_type": "stream",
     "text": [
      "8\n",
      "11.459\n"
     ]
    }
   ],
   "source": [
    "print(2+6)\n",
    "print(3.56+7.899)"
   ]
  },
  {
   "attachments": {},
   "cell_type": "markdown",
   "id": "e29c13dd",
   "metadata": {},
   "source": [
    "2. **Subtração (-)**: Realiza a subtração entre dois valores.\n",
    "   \n"
   ]
  },
  {
   "cell_type": "code",
   "execution_count": 13,
   "id": "40850d42",
   "metadata": {},
   "outputs": [
    {
     "name": "stdout",
     "output_type": "stream",
     "text": [
      "-4\n",
      "-4.339\n"
     ]
    }
   ],
   "source": [
    "print(2-6)\n",
    "print(3.56-7.899)"
   ]
  },
  {
   "attachments": {},
   "cell_type": "markdown",
   "id": "5fa1ca4c",
   "metadata": {},
   "source": [
    "\n",
    "3. **Multiplicação (\\*)**: Realiza a multiplicação entre dois valores.\n",
    "   \n"
   ]
  },
  {
   "cell_type": "code",
   "execution_count": 14,
   "id": "530d36f5",
   "metadata": {},
   "outputs": [
    {
     "name": "stdout",
     "output_type": "stream",
     "text": [
      "12\n",
      "28.120440000000002\n"
     ]
    }
   ],
   "source": [
    "print(2*6)\n",
    "print(3.56*7.899)"
   ]
  },
  {
   "attachments": {},
   "cell_type": "markdown",
   "id": "f3d8313f",
   "metadata": {},
   "source": [
    "\n",
    "5. **Divisão (/)**: Realiza a divisão entre dois valores. O resultado é um número de ponto flutuante.\n"
   ]
  },
  {
   "cell_type": "code",
   "execution_count": 15,
   "id": "2827f136",
   "metadata": {},
   "outputs": [
    {
     "name": "stdout",
     "output_type": "stream",
     "text": [
      "0.3333333333333333\n",
      "0.4506899607545259\n"
     ]
    }
   ],
   "source": [
    "print(2/6)\n",
    "print(3.56/7.899)"
   ]
  },
  {
   "attachments": {},
   "cell_type": "markdown",
   "id": "c5e5a2b4",
   "metadata": {},
   "source": [
    "\n",
    "6. **Divisão inteira (//)**: Realiza a divisão entre dois valores e retorna o resultado como um número inteiro, truncando a parte fracionária.\n"
   ]
  },
  {
   "cell_type": "code",
   "execution_count": 16,
   "id": "0639d8be",
   "metadata": {},
   "outputs": [
    {
     "name": "stdout",
     "output_type": "stream",
     "text": [
      "0\n",
      "0.0\n"
     ]
    }
   ],
   "source": [
    "print(2//6)\n",
    "print(3.56//7.899)"
   ]
  },
  {
   "attachments": {},
   "cell_type": "markdown",
   "id": "28ffcf3a",
   "metadata": {},
   "source": [
    "7. **Módulo (%)**: Retorna o resto da divisão entre dois valores.\n"
   ]
  },
  {
   "cell_type": "code",
   "execution_count": 17,
   "id": "c12a62bc",
   "metadata": {},
   "outputs": [
    {
     "name": "stdout",
     "output_type": "stream",
     "text": [
      "2\n",
      "3.56\n"
     ]
    }
   ],
   "source": [
    "print(2%6)\n",
    "print(3.56%7.899)"
   ]
  },
  {
   "attachments": {},
   "cell_type": "markdown",
   "id": "4a333374",
   "metadata": {},
   "source": [
    "8. **Potência (\\*\\*)**: Calcula o valor de um número elevado a uma potência."
   ]
  },
  {
   "cell_type": "code",
   "execution_count": 18,
   "id": "3d1dfb26",
   "metadata": {},
   "outputs": [
    {
     "name": "stdout",
     "output_type": "stream",
     "text": [
      "64\n",
      "22693.60722765935\n"
     ]
    }
   ],
   "source": [
    "print(2**6)\n",
    "print(3.56**7.899)"
   ]
  },
  {
   "attachments": {},
   "cell_type": "markdown",
   "id": "92048ba3",
   "metadata": {},
   "source": [
    "- ### Operadores lógicos\n",
    "\n",
    "Os operadores lógicos são usados para realizar operações de avaliação e comparação entre valores lógicos (verdadeiro ou falso) em Python."
   ]
  },
  {
   "attachments": {},
   "cell_type": "markdown",
   "id": "9d2d0597",
   "metadata": {},
   "source": [
    "1. **Operador \"and\"**\n",
    "\n",
    "O operador `and` retorna `True` se todas as expressões avaliadas forem verdadeiras, caso contrário, retorna `False`."
   ]
  },
  {
   "cell_type": "code",
   "execution_count": 19,
   "id": "c7233b76",
   "metadata": {},
   "outputs": [
    {
     "name": "stdout",
     "output_type": "stream",
     "text": [
      "False\n"
     ]
    }
   ],
   "source": [
    "x = 5\n",
    "y = 10\n",
    "z = 7\n",
    "resultado = (x < y) and (z > y)\n",
    "print(resultado)"
   ]
  },
  {
   "attachments": {},
   "cell_type": "markdown",
   "id": "483e79e3",
   "metadata": {},
   "source": [
    "Neste exemplo, `(x < y)` é verdadeiro, mas `(z > y)` é falso. Portanto, o resultado final é `False`.\n"
   ]
  },
  {
   "attachments": {},
   "cell_type": "markdown",
   "id": "e135162a",
   "metadata": {},
   "source": [
    "2. **Operador \"or\"**\n",
    "\n",
    "O operador `or` retorna `True` se pelo menos uma das expressões avaliadas for verdadeira. Se todas as expressões forem falsas, retorna `False`. Veja um exemplo:\n"
   ]
  },
  {
   "cell_type": "code",
   "execution_count": 20,
   "id": "c0c31510",
   "metadata": {},
   "outputs": [
    {
     "name": "stdout",
     "output_type": "stream",
     "text": [
      "True\n"
     ]
    }
   ],
   "source": [
    "idade = 25\n",
    "possui_cartao = True\n",
    "possui_limite = False\n",
    "\n",
    "aprovado = (idade >= 18) or (possui_cartao and possui_limite)\n",
    "print(aprovado)"
   ]
  },
  {
   "attachments": {},
   "cell_type": "markdown",
   "id": "6c24e26e",
   "metadata": {},
   "source": [
    "Neste exemplo, a primeira expressão `(idade >= 18)` é verdadeira, portanto, o resultado final é `True`, mesmo que a segunda expressão `(possui_cartao and possui_limite)` seja falsa.\n"
   ]
  },
  {
   "attachments": {},
   "cell_type": "markdown",
   "id": "37becd2b",
   "metadata": {},
   "source": [
    "\n",
    "3. **Operador \"not\"**\n",
    "\n",
    "O operador `not` é usado para negar o valor de uma expressão. Ele inverte o valor lógico de uma expressão. Veja um exemplo:\n"
   ]
  },
  {
   "cell_type": "code",
   "execution_count": 21,
   "id": "c3a8d9a5",
   "metadata": {},
   "outputs": [
    {
     "name": "stdout",
     "output_type": "stream",
     "text": [
      "True\n"
     ]
    }
   ],
   "source": [
    "temperatura = 30\n",
    "clima_quente = not (temperatura < 25)\n",
    "print(clima_quente)"
   ]
  },
  {
   "cell_type": "markdown",
   "id": "fd0f6bed",
   "metadata": {},
   "source": [
    "\n",
    "Neste exemplo, `(temperatura < 25)` é falso, mas `not (temperatura < 25)` inverte o valor para `True`.\n"
   ]
  },
  {
   "attachments": {},
   "cell_type": "markdown",
   "id": "5060343e",
   "metadata": {},
   "source": [
    "\n",
    "- Precedência dos operadores lógicos\n",
    "\n",
    "A precedência dos operadores lógicos segue a seguinte ordem: `not` > `and` > `or`. No entanto, é recomendável usar parênteses para evitar ambiguidades e tornar o código mais legível.\n"
   ]
  },
  {
   "cell_type": "code",
   "execution_count": 22,
   "id": "6a5a3a57",
   "metadata": {},
   "outputs": [
    {
     "data": {
      "text/plain": [
       "False"
      ]
     },
     "execution_count": 22,
     "metadata": {},
     "output_type": "execute_result"
    }
   ],
   "source": [
    "resultado = (x < y) and (z > y) or (x == z)\n",
    "resultado"
   ]
  },
  {
   "cell_type": "markdown",
   "id": "6e4f96fe",
   "metadata": {},
   "source": [
    "\n",
    "Neste exemplo, os parênteses são usados para definir claramente a ordem das operações.\n",
    "\n",
    "Os operadores lógicos são úteis em construções condicionais, como instruções `if` e loops, para controlar o fluxo do programa com base em condições lógicas."
   ]
  },
  {
   "attachments": {},
   "cell_type": "markdown",
   "id": "414800a2",
   "metadata": {},
   "source": [
    "- ### Combinando String com outras variáveis\n",
    "  \n",
    "Em Python, você pode combinar strings e outras variáveis para criar mensagens personalizadas, exibir resultados formatados ou construir conteúdo dinâmico.\n"
   ]
  },
  {
   "attachments": {},
   "cell_type": "markdown",
   "id": "d2e6de09",
   "metadata": {},
   "source": [
    "1. **Concatenação de Strings**\n",
    "\n",
    "A forma mais simples de combinar strings e variáveis é através da concatenação, que é a união de duas ou mais strings em sequência. Você pode usar o operador de adição (+) para concatenar strings. Veja o exemplo abaixo:"
   ]
  },
  {
   "cell_type": "code",
   "execution_count": 23,
   "id": "478b8472",
   "metadata": {},
   "outputs": [
    {
     "name": "stdout",
     "output_type": "stream",
     "text": [
      "Olá, meu nome é Maria e tenho 30 anos.\n"
     ]
    }
   ],
   "source": [
    "nome = \"Maria\"\n",
    "idade = 30\n",
    "\n",
    "mensagem = \"Olá, meu nome é \" + nome + \" e tenho \" + str(idade) + \" anos.\"\n",
    "print(mensagem) "
   ]
  },
  {
   "attachments": {},
   "cell_type": "markdown",
   "id": "269a4b95",
   "metadata": {},
   "source": [
    "Neste exemplo, a variável `mensagem` é criada concatenando as strings com os valores das variáveis `nome` e `idade`. É importante converter a variável `idade` para uma string usando a função `str()` para que possa ser concatenada com as outras strings."
   ]
  },
  {
   "attachments": {},
   "cell_type": "markdown",
   "id": "fe27f81a",
   "metadata": {},
   "source": [
    "2. **Formatação de Strings (f-strings)**\n",
    "\n",
    "A partir do Python 3.6, você pode usar as f-strings (formatted string literals) para combinar strings e variáveis de forma mais conveniente e legível. As f-strings permitem incluir expressões Python dentro de strings formatadas, colocando-as dentro de chaves {}.\n"
   ]
  },
  {
   "cell_type": "code",
   "execution_count": 24,
   "id": "5570394d",
   "metadata": {},
   "outputs": [
    {
     "name": "stdout",
     "output_type": "stream",
     "text": [
      "Olá, meu nome é João e tenho 25 anos.\n"
     ]
    }
   ],
   "source": [
    "nome = \"João\"\n",
    "idade = 25\n",
    "\n",
    "mensagem = f\"Olá, meu nome é {nome} e tenho {idade} anos.\"\n",
    "print(mensagem)"
   ]
  },
  {
   "attachments": {},
   "cell_type": "markdown",
   "id": "0ed42efe",
   "metadata": {},
   "source": [
    "Neste exemplo, as variáveis `nome` e `idade` são inseridas dentro das chaves {} na string formatada. O valor das variáveis é automaticamente convertido em strings e combinado na mensagem."
   ]
  },
  {
   "attachments": {},
   "cell_type": "markdown",
   "id": "1f6bf650",
   "metadata": {},
   "source": [
    "3. **Método format()**\n",
    "\n",
    "Outra forma de combinar strings e variáveis é usando o método `format()`. Você pode criar uma string com espaços reservados (placeholders) e, em seguida, chamar o método `format()` para preencher esses espaços com os valores das variáveis"
   ]
  },
  {
   "cell_type": "code",
   "execution_count": 25,
   "id": "68b8c593",
   "metadata": {},
   "outputs": [
    {
     "name": "stdout",
     "output_type": "stream",
     "text": [
      "A camisa custa 29.99 reais.\n"
     ]
    }
   ],
   "source": [
    "produto = \"camisa\"\n",
    "preco = 29.99\n",
    "\n",
    "mensagem = \"A {} custa {:.2f} reais.\".format(produto, preco)\n",
    "print(mensagem)  # Saída: O camisa custa 29.99 reais.\n"
   ]
  },
  {
   "attachments": {},
   "cell_type": "markdown",
   "id": "c900ba17",
   "metadata": {},
   "source": [
    "\n",
    "Neste exemplo, o espaço reservado `{}` é preenchido com os valores das variáveis `produto` e `preco` usando o método `format()`. A notação `:.2f` é usada para formatar o valor do preço com duas casas decimais."
   ]
  },
  {
   "attachments": {},
   "cell_type": "markdown",
   "id": "a697814e",
   "metadata": {},
   "source": [
    "- ### Recebendo input do usuário\n",
    "\n",
    "Você pode receber entrada do usuário utilizando a função `input()`. Essa função aguarda o usuário digitar algum valor no console e retorna a entrada como uma string. Veja o exemplo abaixo:"
   ]
  },
  {
   "cell_type": "code",
   "execution_count": 26,
   "id": "6247fb55",
   "metadata": {},
   "outputs": [
    {
     "name": "stdout",
     "output_type": "stream",
     "text": [
      "Olá, carla! Bem-vindo!\n"
     ]
    }
   ],
   "source": [
    "nome = input(\"Digite o seu nome: \")\n",
    "print(\"Olá, \" + nome + \"! Bem-vindo!\")"
   ]
  },
  {
   "attachments": {},
   "cell_type": "markdown",
   "id": "7bb96914",
   "metadata": {},
   "source": [
    "Neste exemplo, a função `input(\"Digite o seu nome: \")` exibe a mensagem \"Digite o seu nome: \" no console e aguarda o usuário digitar o seu nome. O valor digitado pelo usuário é armazenado na variável `nome`. Em seguida, a mensagem de saudação é exibida, utilizando a variável `nome` para personalizar a mensagem.\n",
    "\n",
    "Lembre-se de que a função `input()` sempre retorna uma string, mesmo que o usuário digite um número. Se você precisar converter a entrada do usuário para um tipo diferente, como um número inteiro ou de ponto flutuante, você pode usar as funções `int()` ou `float()`.\n"
   ]
  },
  {
   "cell_type": "code",
   "execution_count": 27,
   "id": "eb4553e0",
   "metadata": {},
   "outputs": [
    {
     "name": "stdout",
     "output_type": "stream",
     "text": [
      "O dobro da sua idade é: 32\n"
     ]
    }
   ],
   "source": [
    "idade = int(input(\"Digite a sua idade: \"))\n",
    "dobro_idade = idade * 2\n",
    "print(\"O dobro da sua idade é:\", dobro_idade)"
   ]
  },
  {
   "cell_type": "markdown",
   "id": "43856d6a",
   "metadata": {},
   "source": [
    "\n",
    "\n",
    "Neste exemplo, a função `int()` é usada para converter a entrada do usuário em um número inteiro. Em seguida, o valor da idade é multiplicado por 2 e exibido na mensagem de saída.\n",
    "\n",
    "Tenha em mente que a função `input()` aguarda a entrada do usuário antes de prosseguir com a execução do programa. Portanto, o programa ficará \"pausado\" até que o usuário forneça uma entrada."
   ]
  },
  {
   "cell_type": "markdown",
   "id": "a541e647",
   "metadata": {},
   "source": [
    "- ### Indexação, indexação negativa, comprimento da string"
   ]
  },
  {
   "cell_type": "code",
   "execution_count": 28,
   "id": "c3766f87",
   "metadata": {},
   "outputs": [
    {
     "name": "stdout",
     "output_type": "stream",
     "text": [
      "I\n",
      "o\n",
      "o\n",
      "m\n",
      "so não é um t\n",
      "25\n"
     ]
    }
   ],
   "source": [
    "frase = \"Isso não é um treinamento\"\n",
    "print(frase[0])        \n",
    "print(frase[3])       \n",
    "print(frase[-1])    \n",
    "print(frase[-5])  \n",
    "print(frase[2:15])\n",
    "print(len(frase))  "
   ]
  },
  {
   "attachments": {},
   "cell_type": "markdown",
   "id": "6859bf7a",
   "metadata": {},
   "source": [
    "\n",
    "A frase \"Isso não é um treinamento\" é atribuída à variável `frase`. Em seguida, mostramos como realizar a indexação para acessar caracteres individuais:\n",
    "\n",
    "- `frase[0]` retorna o primeiro caractere da frase, que é 'I'.\n",
    "- `frase[3]` retorna o quinto caractere da frase, que é 'o'.\n",
    "\n",
    "Também utilizamos a indexação negativa para acessar caracteres a partir do final da string:\n",
    "\n",
    "- `frase[-1]` retorna o último caractere da frase, que também é 'o'.\n",
    "- `frase[-5]` retorna o quinto caractere a partir do final da frase, que é 'm'.\n",
    "- `frase[2:15]` retorna os caractere a partir do terceiro caractere até décimo sexto da frase.\n",
    "\n",
    "Finalmente, utilizamos a função `len()` para obter o comprimento da string:\n",
    "\n",
    "- `len(frase)` retorna o comprimento da frase, que é igual a 25.\n",
    "\n",
    "Observe que a indexação começa em 0, enquanto a indexação negativa começa em -1. O comprimento da string é obtido com a função `len()`, que retorna o número total de caracteres da string."
   ]
  },
  {
   "cell_type": "markdown",
   "id": "f253b4cb",
   "metadata": {},
   "source": [
    "- ### Operações nas strings"
   ]
  },
  {
   "cell_type": "code",
   "execution_count": 29,
   "id": "4a6ee4e9",
   "metadata": {},
   "outputs": [
    {
     "name": "stdout",
     "output_type": "stream",
     "text": [
      "ISSO NÃO É UM TREINAMENTO\n"
     ]
    }
   ],
   "source": [
    "# Converter para letras maiúsculas\n",
    "frase_maiusculas = frase.upper()\n",
    "print(frase_maiusculas)  \n"
   ]
  },
  {
   "cell_type": "code",
   "execution_count": 30,
   "id": "b5bb9585",
   "metadata": {},
   "outputs": [
    {
     "name": "stdout",
     "output_type": "stream",
     "text": [
      "isso não é um treinamento\n"
     ]
    }
   ],
   "source": [
    "# Converter para letras minúsculas\n",
    "frase_minusculas = frase.lower()\n",
    "print(frase_minusculas)  "
   ]
  },
  {
   "cell_type": "code",
   "execution_count": 31,
   "id": "55b630e8",
   "metadata": {},
   "outputs": [
    {
     "name": "stdout",
     "output_type": "stream",
     "text": [
      "3\n"
     ]
    }
   ],
   "source": [
    "# Contar a ocorrência de um determinado caractere ou substring\n",
    "ocorrencias_o = frase.count(\"o\")\n",
    "print(ocorrencias_o)     "
   ]
  },
  {
   "cell_type": "code",
   "execution_count": 32,
   "id": "5444df29",
   "metadata": {},
   "outputs": [
    {
     "name": "stdout",
     "output_type": "stream",
     "text": [
      "Isso sim é um treinamento\n"
     ]
    }
   ],
   "source": [
    "# Substituir uma substring por outra\n",
    "frase_substituida = frase.replace(\"não\", \"sim\")\n",
    "print(frase_substituida) "
   ]
  },
  {
   "cell_type": "code",
   "execution_count": 33,
   "id": "80ff44dd",
   "metadata": {},
   "outputs": [
    {
     "name": "stdout",
     "output_type": "stream",
     "text": [
      "['Isso', 'não', 'é', 'um', 'treinamento']\n"
     ]
    }
   ],
   "source": [
    "# Dividir a frase em palavras\n",
    "palavras = frase.split()\n",
    "print(palavras)          "
   ]
  },
  {
   "cell_type": "code",
   "execution_count": 34,
   "id": "aab40e53",
   "metadata": {},
   "outputs": [
    {
     "name": "stdout",
     "output_type": "stream",
     "text": [
      "Isso não é um treinamento . Atirem, atirem !!!!\n"
     ]
    }
   ],
   "source": [
    "# Concatenar com outra frase\n",
    "outra_frase = \". Atirem, atirem !!!!\"\n",
    "frase_concatenada = frase + \" \" + outra_frase\n",
    "print(frase_concatenada) \n"
   ]
  },
  {
   "cell_type": "code",
   "execution_count": 35,
   "id": "7a1b55d0",
   "metadata": {},
   "outputs": [
    {
     "name": "stdout",
     "output_type": "stream",
     "text": [
      "True\n",
      "False\n"
     ]
    }
   ],
   "source": [
    "# checar se palavras especificas estão na frase\n",
    "print('não' in frase)\n",
    "print('cavalo' in frase)"
   ]
  }
 ],
 "metadata": {
  "kernelspec": {
   "display_name": "base",
   "language": "python",
   "name": "python3"
  },
  "language_info": {
   "codemirror_mode": {
    "name": "ipython",
    "version": 3
   },
   "file_extension": ".py",
   "mimetype": "text/x-python",
   "name": "python",
   "nbconvert_exporter": "python",
   "pygments_lexer": "ipython3",
   "version": "3.9.16"
  }
 },
 "nbformat": 4,
 "nbformat_minor": 5
}
